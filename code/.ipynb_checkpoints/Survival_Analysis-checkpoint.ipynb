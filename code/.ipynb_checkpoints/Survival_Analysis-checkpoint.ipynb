{
 "cells": [
  {
   "cell_type": "code",
   "execution_count": 1,
   "metadata": {},
   "outputs": [
    {
     "name": "stdout",
     "output_type": "stream",
     "text": [
      "Populating the interactive namespace from numpy and matplotlib\n"
     ]
    }
   ],
   "source": [
    "import sklearn\n",
    "from sklearn import metrics\n",
    "from sklearn import preprocessings\n",
    "from sklearn.model_selection import GridSearchCV\n",
    "from sklearn.calibration import CalibratedClassifierCV\n",
    "from sklearn.metrics import accuracy_score\n",
    "from sklearn.metrics import roc_auc_score\n",
    "from sklearn.metrics import log_loss\n",
    "\n",
    "import numpy as np\n",
    "import pandas as pd\n",
    "import matplotlib.pyplot as plt\n",
    "from matplotlib import style\n",
    "style.use('ggplot')\n",
    "\n",
    "import seaborn as sns\n",
    "%matplotlib inline\n",
    "%pylab inline\n",
    "\n",
    "from tqdm import tqdm_notebook\n",
    "from math import sqrt"
   ]
  },
  {
   "cell_type": "code",
   "execution_count": 2,
   "metadata": {},
   "outputs": [],
   "source": [
    "Type = 'XGBoost'\n",
    "Datasets_amount = 3\n",
    "Features = 'All'\n",
    "Grid_search = True\n",
    "Save_results = False\n",
    "Random_seed = 1\n",
    "Metodology = 'mibel'\n",
    "Save_graphs = False\n",
    "Print_graphs = True\n",
    "Print_metrics = True"
   ]
  },
  {
   "cell_type": "code",
   "execution_count": 3,
   "metadata": {},
   "outputs": [],
   "source": [
    "train = []\n",
    "test = []\n",
    "\n",
    "for i in range(3):\n",
    "    train.append(pd.read_csv('Train_CE_{}.csv'.format(i+1)).drop(columns = ['Unnamed: 0']))\n",
    "    test.append(pd.read_csv('Test_CE_{}.csv'.format(i+1)).drop(columns = ['Unnamed: 0']))\n",
    "\n",
    "#     test[i]['test_label'] = np.ones(test[i]['time'].shape) \n",
    "#     train[i]['test_label'] = np.zeros(train[i]['time'].shape) \n",
    "#     data = pd.concat([train[i], test[i]])\n",
    "#     df = data.drop(columns = ['APGEN1'])\n",
    "#     df = data.drop(columns = ['APGEN2'])\n",
    "#     df = pd.concat([df[df.columns[:-2]],\\\n",
    "#            pd.get_dummies(data['APGEN1'], prefix = 'apgen1', dummy_na = True),\\\n",
    "#            pd.get_dummies(data['APGEN2'], prefix = 'apgen2', dummy_na = True),\\\n",
    "#            df[df.columns[-2:]]], axis = 1)\n",
    "#     train[i] = df.loc[df['test_label'] == 0].drop(columns = ['test_label'])\n",
    "#     test[i] = df.loc[df['test_label'] == 1].drop(columns = ['test_label'])"
   ]
  },
  {
   "cell_type": "code",
   "execution_count": 4,
   "metadata": {},
   "outputs": [],
   "source": [
    "MRT_cols = []\n",
    "clinical_cols = []\n",
    "for col in train[0].columns[3:-1]:\n",
    "    if col.find('f_') == -1:\n",
    "        clinical_cols.append(col)\n",
    "    else:\n",
    "        MRT_cols.append(col)\n",
    "\n",
    "default_colls = train[0].columns[:3]\n",
    "target_coll = train[0].columns[-1]"
   ]
  },
  {
   "cell_type": "code",
   "execution_count": 5,
   "metadata": {},
   "outputs": [],
   "source": [
    "def only_clinical_df(df):\n",
    "    return df.drop(columns = MRT_cols)"
   ]
  },
  {
   "cell_type": "code",
   "execution_count": 6,
   "metadata": {},
   "outputs": [],
   "source": [
    "def only_MRT_df(df):\n",
    "     return df.drop(columns = clinical_cols)"
   ]
  },
  {
   "cell_type": "code",
   "execution_count": 7,
   "metadata": {},
   "outputs": [],
   "source": [
    "def all_feat_df(df):\n",
    "    return df"
   ]
  },
  {
   "cell_type": "code",
   "execution_count": 8,
   "metadata": {},
   "outputs": [],
   "source": [
    "def read_array(file_name):\n",
    "    f = open(file_name, 'r')\n",
    "    x = f.readlines()\n",
    "    for i in range(len(x)):\n",
    "        x[i] = float(x[i].split()[0])\n",
    "    f.close()\n",
    "    return np.array(x)"
   ]
  },
  {
   "cell_type": "code",
   "execution_count": 9,
   "metadata": {},
   "outputs": [],
   "source": [
    "def health_flag(df):\n",
    "    dxcurren = df['DXCURREN'].values\n",
    "\n",
    "    df['health_flag'] = 'health'\n",
    "    df['debute_time'] = -1\n",
    "    if len(np.where(dxcurren == 1)[0]) != 0:\n",
    "        df['health_flag'] = ['sick']*len(df)\n",
    "        df['debute_time'] = [np.where(dxcurren == 1)[0][0]*6] * len(df)\n",
    "    return df"
   ]
  },
  {
   "cell_type": "code",
   "execution_count": 10,
   "metadata": {},
   "outputs": [],
   "source": [
    "for dataset_num in range(Datasets_amount):\n",
    "    train[dataset_num] = train[dataset_num].groupby('RID').apply(health_flag)\n",
    "    test[dataset_num] = test[dataset_num].groupby('RID').apply(health_flag)"
   ]
  },
  {
   "cell_type": "code",
   "execution_count": 11,
   "metadata": {
    "scrolled": false
   },
   "outputs": [],
   "source": [
    "def train_df(df):\n",
    "    new_df = pd.DataFrame()\n",
    "    df['time_real'] = 0\n",
    "    df['max_month'] = df.time.values[-1]\n",
    "    \n",
    "    #TODO: до debute или по всем???\n",
    "    if df['debute_time'].values[0] < 0:\n",
    "        month = df.time.values[-1]\n",
    "    else:\n",
    "        month = df['debute_time'].values[0]\n",
    "        \n",
    "    for el in range(0, month+1, 6):\n",
    "        ndf = df.loc[df.time <= el]\n",
    "        ndf['time_real'] = el\n",
    "        new_df = pd.concat([new_df, ndf])\n",
    "    return new_df\n",
    "\n",
    "def train_dataset_health(X):\n",
    "    if X['health_flag'].values[0] == 'health':\n",
    "        return X\n",
    "    else:\n",
    "        max_month = 120\n",
    "\n",
    "        df = X.copy()\n",
    "        for t in range(X['time'].max()+6,  max_month+1, 6):\n",
    "            a = X.loc[X['time'] == X['time'].max()]\n",
    "            if t >= X['debute_time'].values[0]:\n",
    "                a['DXCURREN'] = 1\n",
    "            a['time'] = t\n",
    "            a['copy_label'] = 0\n",
    "\n",
    "            df = pd.concat([df, a])\n",
    "        return df"
   ]
  },
  {
   "cell_type": "code",
   "execution_count": 12,
   "metadata": {},
   "outputs": [],
   "source": [
    "##RECREATE DATASET\n",
    "\n",
    "# new_train = [None, None, None]\n",
    "# new_test = [None, None, None]\n",
    "# for i in range(3):\n",
    "#     new_train[i] = train[i].groupby(\"RID\").apply(train_df)\n",
    "#     new_test[i] = test[i].groupby(\"RID\").apply(train_df)\n",
    "\n",
    "# n_train = [None, None, None]\n",
    "# n_test = [None, None, None]\n",
    "# for i in range(3):\n",
    "#     new_train[i].index = new_train[i].index.droplevel()\n",
    "#     new_test[i].index = new_test[i].index.droplevel()\n",
    "    \n",
    "#     new_train[i] = new_train[i].sort_values(by=['RID', 'time_real','time']).reset_index(drop = True)\n",
    "#     new_test[i] = new_test[i].sort_values(by=['RID', 'time_real','time']).reset_index(drop = True)\n",
    "    \n",
    "#     n_train[i] = new_train[i].groupby(['RID','time_real']).apply(train_dataset_health)\n",
    "#     n_test[i] = new_test[i].groupby(['RID','time_real']).apply(train_dataset_health)\n",
    "\n",
    "# for i in range(3):\n",
    "#     n_train[i].index = n_train[i].index.droplevel()\n",
    "#     n_train[i].index = n_train[i].index.droplevel()\n",
    "    \n",
    "#     n_test[i].index = n_test[i].index.droplevel()\n",
    "#     n_test[i].index = n_test[i].index.droplevel()\n",
    "\n",
    "# for i in range(3):\n",
    "#     n_train[i].reset_index(drop = True, inplace = True)\n",
    "#     n_test[i].reset_index(drop = True, inplace = True)\n",
    "\n",
    "# for i in range(3):\n",
    "#     n_train[i].to_pickle('TRAIN_{}.pkl'.format(i))\n",
    "#     n_test[i].to_pickle('TEST_{}.pkl'.format(i))"
   ]
  },
  {
   "cell_type": "code",
   "execution_count": 13,
   "metadata": {},
   "outputs": [],
   "source": [
    "import pickle\n",
    "\n",
    "n_train = [None, None, None]\n",
    "n_test = [None, None, None]\n",
    "for i in range(3):\n",
    "    n_train[i] = pd.read_pickle('TRAIN_{}.pkl'.format(i))\n",
    "    n_test[i] = pd.read_pickle('TEST_{}.pkl'.format(i))"
   ]
  },
  {
   "cell_type": "code",
   "execution_count": 14,
   "metadata": {},
   "outputs": [],
   "source": [
    "for i in range(3):\n",
    "    n_train_health = n_train[i].loc[n_train[i].health_flag == 'health']\n",
    "    df = n_train_health.drop(columns = ['time_real']).drop_duplicates()\n",
    "    n_train[i] = pd.concat([n_train[i].loc[n_train[i].health_flag == 'sick'], n_train[i].loc[df.index]])\n",
    "    n_train[i] = n_train[i].sort_values(by =  ['time_real','RID', 'time'])\n",
    "\n",
    "    n_test_health = n_test[i].loc[n_test[i].health_flag == 'health']\n",
    "    df = n_test_health.drop(columns = ['time_real']).drop_duplicates()\n",
    "    n_test[i] = pd.concat([n_test[i].loc[n_test[i].health_flag == 'sick'], n_test[i].loc[df.index]])\n",
    "    n_test[i] = n_test[i].sort_values(by = ['time_real','RID', 'time'])"
   ]
  },
  {
   "cell_type": "code",
   "execution_count": 15,
   "metadata": {},
   "outputs": [],
   "source": [
    "Train = []\n",
    "Test = []\n",
    "for dataset_num in range(Datasets_amount):\n",
    "    if Features == 'All':\n",
    "        Train.append(all_feat_df(n_train[dataset_num]))\n",
    "        Test.append(all_feat_df(n_test[dataset_num]))\n",
    "    elif Features == 'Clinical':\n",
    "        Train.append(only_clinical_df(n_train[dataset_num]))\n",
    "        Test.append(only_clinical_df(n_test[dataset_num]))\n",
    "    else:\n",
    "        Train.append(only_MRT_df(n_train[dataset_num]))\n",
    "        Test.append(only_MRT_df(n_test[dataset_num]))"
   ]
  },
  {
   "cell_type": "code",
   "execution_count": 16,
   "metadata": {},
   "outputs": [],
   "source": [
    "def debute_time(df):\n",
    "    if len(numpy.where(df['DXCURREN'].values == 1)[0]) == 0:\n",
    "        df['debute time'] = [-1]*len(df)\n",
    "    else:\n",
    "        df['debute time'] = [numpy.where(df['DXCURREN'].values == 1)[0][0]*6]*len(df)\n",
    "    return df"
   ]
  },
  {
   "cell_type": "code",
   "execution_count": 17,
   "metadata": {},
   "outputs": [],
   "source": [
    "def drop_future(df):\n",
    "    rid = df.RID.unique()[0]\n",
    "    \n",
    "    debute_time = df['debute time'].values[0]\n",
    "    if debute_time != -1:\n",
    "        return df.drop(df.loc[df['time_real.1'] > debute_time].index)\n",
    "    else:\n",
    "        return df"
   ]
  },
  {
   "cell_type": "code",
   "execution_count": 19,
   "metadata": {},
   "outputs": [],
   "source": [
    "def get_x_y(df):\n",
    "    x = df.drop(columns = Test[0].columns[np.where(Test[0].columns == 'DXCURREN')[0][0]:])\n",
    "    y = list(df['DXCURREN'].values)\n",
    "    return x, y"
   ]
  },
  {
   "cell_type": "code",
   "execution_count": 21,
   "metadata": {},
   "outputs": [],
   "source": [
    "for dataset_num in range(Datasets_amount):\n",
    "    Test[dataset_num]  = Test[dataset_num].loc[Test[dataset_num].debute_time != 0]\n",
    "    Train[dataset_num] = Train[dataset_num].loc[Train[dataset_num].debute_time != 0]"
   ]
  },
  {
   "cell_type": "code",
   "execution_count": 22,
   "metadata": {},
   "outputs": [],
   "source": [
    "x_train = []\n",
    "y_train = []\n",
    "\n",
    "x_test = []\n",
    "y_test = []\n",
    "\n",
    "for data_num in range(3):\n",
    "    x, y = get_x_y(Train[data_num])\n",
    "    x_train.append(x)\n",
    "    y_train.append(y)\n",
    "    \n",
    "    x, y = get_x_y(Test[data_num])\n",
    "    x_test.append(x)\n",
    "    y_test.append(y)"
   ]
  },
  {
   "cell_type": "code",
   "execution_count": 23,
   "metadata": {},
   "outputs": [
    {
     "data": {
      "text/html": [
       "<div>\n",
       "<style scoped>\n",
       "    .dataframe tbody tr th:only-of-type {\n",
       "        vertical-align: middle;\n",
       "    }\n",
       "\n",
       "    .dataframe tbody tr th {\n",
       "        vertical-align: top;\n",
       "    }\n",
       "\n",
       "    .dataframe thead th {\n",
       "        text-align: right;\n",
       "    }\n",
       "</style>\n",
       "<table border=\"1\" class=\"dataframe\">\n",
       "  <thead>\n",
       "    <tr style=\"text-align: right;\">\n",
       "      <th></th>\n",
       "      <th>copy_label</th>\n",
       "      <th>time</th>\n",
       "      <th>RID</th>\n",
       "      <th>VSWEIGHT</th>\n",
       "      <th>VSHEIGHT</th>\n",
       "      <th>VSBPSYS</th>\n",
       "      <th>VSBPDIA</th>\n",
       "      <th>VSPULSE</th>\n",
       "      <th>VSRESP</th>\n",
       "      <th>VSTEMP</th>\n",
       "      <th>...</th>\n",
       "      <th>f_62</th>\n",
       "      <th>f_63</th>\n",
       "      <th>apgen1_2.0</th>\n",
       "      <th>apgen1_3.0</th>\n",
       "      <th>apgen1_4.0</th>\n",
       "      <th>apgen1_nan</th>\n",
       "      <th>apgen2_2.0</th>\n",
       "      <th>apgen2_3.0</th>\n",
       "      <th>apgen2_4.0</th>\n",
       "      <th>apgen2_nan</th>\n",
       "    </tr>\n",
       "  </thead>\n",
       "  <tbody>\n",
       "    <tr>\n",
       "      <th>0</th>\n",
       "      <td>1.0</td>\n",
       "      <td>0</td>\n",
       "      <td>2.0</td>\n",
       "      <td>89.000000</td>\n",
       "      <td>180.34</td>\n",
       "      <td>110.0</td>\n",
       "      <td>80.0</td>\n",
       "      <td>60.0</td>\n",
       "      <td>20.0</td>\n",
       "      <td>35.722222</td>\n",
       "      <td>...</td>\n",
       "      <td>-0.170898</td>\n",
       "      <td>0.071594</td>\n",
       "      <td>0</td>\n",
       "      <td>1</td>\n",
       "      <td>0</td>\n",
       "      <td>0</td>\n",
       "      <td>0</td>\n",
       "      <td>1</td>\n",
       "      <td>0</td>\n",
       "      <td>0</td>\n",
       "    </tr>\n",
       "    <tr>\n",
       "      <th>22</th>\n",
       "      <td>1.0</td>\n",
       "      <td>0</td>\n",
       "      <td>4.0</td>\n",
       "      <td>83.460928</td>\n",
       "      <td>175.26</td>\n",
       "      <td>140.0</td>\n",
       "      <td>70.0</td>\n",
       "      <td>54.0</td>\n",
       "      <td>16.0</td>\n",
       "      <td>36.111111</td>\n",
       "      <td>...</td>\n",
       "      <td>0.160156</td>\n",
       "      <td>0.114990</td>\n",
       "      <td>0</td>\n",
       "      <td>1</td>\n",
       "      <td>0</td>\n",
       "      <td>0</td>\n",
       "      <td>0</td>\n",
       "      <td>1</td>\n",
       "      <td>0</td>\n",
       "      <td>0</td>\n",
       "    </tr>\n",
       "    <tr>\n",
       "      <th>50</th>\n",
       "      <td>1.0</td>\n",
       "      <td>0</td>\n",
       "      <td>5.0</td>\n",
       "      <td>88.000000</td>\n",
       "      <td>180.34</td>\n",
       "      <td>150.0</td>\n",
       "      <td>80.0</td>\n",
       "      <td>52.0</td>\n",
       "      <td>18.0</td>\n",
       "      <td>35.944444</td>\n",
       "      <td>...</td>\n",
       "      <td>0.162476</td>\n",
       "      <td>0.120056</td>\n",
       "      <td>0</td>\n",
       "      <td>1</td>\n",
       "      <td>0</td>\n",
       "      <td>0</td>\n",
       "      <td>0</td>\n",
       "      <td>1</td>\n",
       "      <td>0</td>\n",
       "      <td>0</td>\n",
       "    </tr>\n",
       "    <tr>\n",
       "      <th>78</th>\n",
       "      <td>1.0</td>\n",
       "      <td>0</td>\n",
       "      <td>6.0</td>\n",
       "      <td>69.399576</td>\n",
       "      <td>168.91</td>\n",
       "      <td>123.0</td>\n",
       "      <td>76.0</td>\n",
       "      <td>55.0</td>\n",
       "      <td>20.0</td>\n",
       "      <td>36.111111</td>\n",
       "      <td>...</td>\n",
       "      <td>0.128662</td>\n",
       "      <td>0.054138</td>\n",
       "      <td>0</td>\n",
       "      <td>1</td>\n",
       "      <td>0</td>\n",
       "      <td>0</td>\n",
       "      <td>0</td>\n",
       "      <td>1</td>\n",
       "      <td>0</td>\n",
       "      <td>0</td>\n",
       "    </tr>\n",
       "    <tr>\n",
       "      <th>127</th>\n",
       "      <td>1.0</td>\n",
       "      <td>0</td>\n",
       "      <td>8.0</td>\n",
       "      <td>60.000000</td>\n",
       "      <td>165.10</td>\n",
       "      <td>124.0</td>\n",
       "      <td>74.0</td>\n",
       "      <td>80.0</td>\n",
       "      <td>20.0</td>\n",
       "      <td>35.555556</td>\n",
       "      <td>...</td>\n",
       "      <td>0.165161</td>\n",
       "      <td>0.126343</td>\n",
       "      <td>1</td>\n",
       "      <td>0</td>\n",
       "      <td>0</td>\n",
       "      <td>0</td>\n",
       "      <td>0</td>\n",
       "      <td>1</td>\n",
       "      <td>0</td>\n",
       "      <td>0</td>\n",
       "    </tr>\n",
       "  </tbody>\n",
       "</table>\n",
       "<p>5 rows × 126 columns</p>\n",
       "</div>"
      ],
      "text/plain": [
       "     copy_label  time  RID   VSWEIGHT  VSHEIGHT  VSBPSYS  VSBPDIA  VSPULSE  \\\n",
       "0           1.0     0  2.0  89.000000    180.34    110.0     80.0     60.0   \n",
       "22          1.0     0  4.0  83.460928    175.26    140.0     70.0     54.0   \n",
       "50          1.0     0  5.0  88.000000    180.34    150.0     80.0     52.0   \n",
       "78          1.0     0  6.0  69.399576    168.91    123.0     76.0     55.0   \n",
       "127         1.0     0  8.0  60.000000    165.10    124.0     74.0     80.0   \n",
       "\n",
       "     VSRESP     VSTEMP     ...          f_62      f_63  apgen1_2.0  \\\n",
       "0      20.0  35.722222     ...     -0.170898  0.071594           0   \n",
       "22     16.0  36.111111     ...      0.160156  0.114990           0   \n",
       "50     18.0  35.944444     ...      0.162476  0.120056           0   \n",
       "78     20.0  36.111111     ...      0.128662  0.054138           0   \n",
       "127    20.0  35.555556     ...      0.165161  0.126343           1   \n",
       "\n",
       "     apgen1_3.0  apgen1_4.0  apgen1_nan  apgen2_2.0  apgen2_3.0  apgen2_4.0  \\\n",
       "0             1           0           0           0           1           0   \n",
       "22            1           0           0           0           1           0   \n",
       "50            1           0           0           0           1           0   \n",
       "78            1           0           0           0           1           0   \n",
       "127           0           0           0           0           1           0   \n",
       "\n",
       "     apgen2_nan  \n",
       "0             0  \n",
       "22            0  \n",
       "50            0  \n",
       "78            0  \n",
       "127           0  \n",
       "\n",
       "[5 rows x 126 columns]"
      ]
     },
     "execution_count": 23,
     "metadata": {},
     "output_type": "execute_result"
    }
   ],
   "source": [
    "x_train[0].head()"
   ]
  },
  {
   "cell_type": "code",
   "execution_count": 24,
   "metadata": {},
   "outputs": [
    {
     "data": {
      "text/html": [
       "<div>\n",
       "<style scoped>\n",
       "    .dataframe tbody tr th:only-of-type {\n",
       "        vertical-align: middle;\n",
       "    }\n",
       "\n",
       "    .dataframe tbody tr th {\n",
       "        vertical-align: top;\n",
       "    }\n",
       "\n",
       "    .dataframe thead th {\n",
       "        text-align: right;\n",
       "    }\n",
       "</style>\n",
       "<table border=\"1\" class=\"dataframe\">\n",
       "  <thead>\n",
       "    <tr style=\"text-align: right;\">\n",
       "      <th></th>\n",
       "      <th>copy_label</th>\n",
       "      <th>time</th>\n",
       "      <th>RID</th>\n",
       "      <th>VSWEIGHT</th>\n",
       "      <th>VSHEIGHT</th>\n",
       "      <th>VSBPSYS</th>\n",
       "      <th>VSBPDIA</th>\n",
       "      <th>VSPULSE</th>\n",
       "      <th>VSRESP</th>\n",
       "      <th>VSTEMP</th>\n",
       "      <th>...</th>\n",
       "      <th>f_62</th>\n",
       "      <th>f_63</th>\n",
       "      <th>apgen1_2.0</th>\n",
       "      <th>apgen1_3.0</th>\n",
       "      <th>apgen1_4.0</th>\n",
       "      <th>apgen1_nan</th>\n",
       "      <th>apgen2_2.0</th>\n",
       "      <th>apgen2_3.0</th>\n",
       "      <th>apgen2_4.0</th>\n",
       "      <th>apgen2_nan</th>\n",
       "    </tr>\n",
       "  </thead>\n",
       "  <tbody>\n",
       "    <tr>\n",
       "      <th>0</th>\n",
       "      <td>1.0</td>\n",
       "      <td>0</td>\n",
       "      <td>30.0</td>\n",
       "      <td>61.23492</td>\n",
       "      <td>163.83</td>\n",
       "      <td>197.0</td>\n",
       "      <td>92.0</td>\n",
       "      <td>64.0</td>\n",
       "      <td>16.0</td>\n",
       "      <td>35.722222</td>\n",
       "      <td>...</td>\n",
       "      <td>0.162842</td>\n",
       "      <td>0.118164</td>\n",
       "      <td>0</td>\n",
       "      <td>1</td>\n",
       "      <td>0</td>\n",
       "      <td>0</td>\n",
       "      <td>0</td>\n",
       "      <td>1</td>\n",
       "      <td>0</td>\n",
       "      <td>0</td>\n",
       "    </tr>\n",
       "    <tr>\n",
       "      <th>1</th>\n",
       "      <td>0.0</td>\n",
       "      <td>6</td>\n",
       "      <td>30.0</td>\n",
       "      <td>61.23492</td>\n",
       "      <td>163.83</td>\n",
       "      <td>197.0</td>\n",
       "      <td>92.0</td>\n",
       "      <td>64.0</td>\n",
       "      <td>16.0</td>\n",
       "      <td>35.722222</td>\n",
       "      <td>...</td>\n",
       "      <td>0.162842</td>\n",
       "      <td>0.118164</td>\n",
       "      <td>0</td>\n",
       "      <td>1</td>\n",
       "      <td>0</td>\n",
       "      <td>0</td>\n",
       "      <td>0</td>\n",
       "      <td>1</td>\n",
       "      <td>0</td>\n",
       "      <td>0</td>\n",
       "    </tr>\n",
       "    <tr>\n",
       "      <th>2</th>\n",
       "      <td>0.0</td>\n",
       "      <td>12</td>\n",
       "      <td>30.0</td>\n",
       "      <td>61.23492</td>\n",
       "      <td>163.83</td>\n",
       "      <td>197.0</td>\n",
       "      <td>92.0</td>\n",
       "      <td>64.0</td>\n",
       "      <td>16.0</td>\n",
       "      <td>35.722222</td>\n",
       "      <td>...</td>\n",
       "      <td>0.162842</td>\n",
       "      <td>0.118164</td>\n",
       "      <td>0</td>\n",
       "      <td>1</td>\n",
       "      <td>0</td>\n",
       "      <td>0</td>\n",
       "      <td>0</td>\n",
       "      <td>1</td>\n",
       "      <td>0</td>\n",
       "      <td>0</td>\n",
       "    </tr>\n",
       "    <tr>\n",
       "      <th>3</th>\n",
       "      <td>0.0</td>\n",
       "      <td>18</td>\n",
       "      <td>30.0</td>\n",
       "      <td>61.23492</td>\n",
       "      <td>163.83</td>\n",
       "      <td>197.0</td>\n",
       "      <td>92.0</td>\n",
       "      <td>64.0</td>\n",
       "      <td>16.0</td>\n",
       "      <td>35.722222</td>\n",
       "      <td>...</td>\n",
       "      <td>0.162842</td>\n",
       "      <td>0.118164</td>\n",
       "      <td>0</td>\n",
       "      <td>1</td>\n",
       "      <td>0</td>\n",
       "      <td>0</td>\n",
       "      <td>0</td>\n",
       "      <td>1</td>\n",
       "      <td>0</td>\n",
       "      <td>0</td>\n",
       "    </tr>\n",
       "    <tr>\n",
       "      <th>4</th>\n",
       "      <td>0.0</td>\n",
       "      <td>24</td>\n",
       "      <td>30.0</td>\n",
       "      <td>61.23492</td>\n",
       "      <td>163.83</td>\n",
       "      <td>197.0</td>\n",
       "      <td>92.0</td>\n",
       "      <td>64.0</td>\n",
       "      <td>16.0</td>\n",
       "      <td>35.722222</td>\n",
       "      <td>...</td>\n",
       "      <td>0.162842</td>\n",
       "      <td>0.118164</td>\n",
       "      <td>0</td>\n",
       "      <td>1</td>\n",
       "      <td>0</td>\n",
       "      <td>0</td>\n",
       "      <td>0</td>\n",
       "      <td>1</td>\n",
       "      <td>0</td>\n",
       "      <td>0</td>\n",
       "    </tr>\n",
       "  </tbody>\n",
       "</table>\n",
       "<p>5 rows × 126 columns</p>\n",
       "</div>"
      ],
      "text/plain": [
       "   copy_label  time   RID  VSWEIGHT  VSHEIGHT  VSBPSYS  VSBPDIA  VSPULSE  \\\n",
       "0         1.0     0  30.0  61.23492    163.83    197.0     92.0     64.0   \n",
       "1         0.0     6  30.0  61.23492    163.83    197.0     92.0     64.0   \n",
       "2         0.0    12  30.0  61.23492    163.83    197.0     92.0     64.0   \n",
       "3         0.0    18  30.0  61.23492    163.83    197.0     92.0     64.0   \n",
       "4         0.0    24  30.0  61.23492    163.83    197.0     92.0     64.0   \n",
       "\n",
       "   VSRESP     VSTEMP     ...          f_62      f_63  apgen1_2.0  apgen1_3.0  \\\n",
       "0    16.0  35.722222     ...      0.162842  0.118164           0           1   \n",
       "1    16.0  35.722222     ...      0.162842  0.118164           0           1   \n",
       "2    16.0  35.722222     ...      0.162842  0.118164           0           1   \n",
       "3    16.0  35.722222     ...      0.162842  0.118164           0           1   \n",
       "4    16.0  35.722222     ...      0.162842  0.118164           0           1   \n",
       "\n",
       "   apgen1_4.0  apgen1_nan  apgen2_2.0  apgen2_3.0  apgen2_4.0  apgen2_nan  \n",
       "0           0           0           0           1           0           0  \n",
       "1           0           0           0           1           0           0  \n",
       "2           0           0           0           1           0           0  \n",
       "3           0           0           0           1           0           0  \n",
       "4           0           0           0           1           0           0  \n",
       "\n",
       "[5 rows x 126 columns]"
      ]
     },
     "execution_count": 24,
     "metadata": {},
     "output_type": "execute_result"
    }
   ],
   "source": [
    "x_test[0].head()"
   ]
  },
  {
   "cell_type": "code",
   "execution_count": 25,
   "metadata": {},
   "outputs": [],
   "source": [
    "weight_ratio =[]\n",
    "for dataset_num in range(3):\n",
    "    y_train_arr = np.array(y_train[dataset_num]) \n",
    "    weight_ratio.append(len(y_train_arr[y_train_arr == 0])/len(y_train_arr[y_train_arr == 1]))"
   ]
  },
  {
   "cell_type": "code",
   "execution_count": 27,
   "metadata": {},
   "outputs": [
    {
     "name": "stderr",
     "output_type": "stream",
     "text": [
      "/nmnt/media/home/l0ki4/anaconda3/lib/python3.6/site-packages/ipykernel_launcher.py:6: FutureWarning: Method .as_matrix will be removed in a future version. Use .values instead.\n",
      "  \n",
      "/nmnt/media/home/l0ki4/anaconda3/lib/python3.6/site-packages/ipykernel_launcher.py:7: FutureWarning: Method .as_matrix will be removed in a future version. Use .values instead.\n",
      "  import sys\n"
     ]
    }
   ],
   "source": [
    "x_test_m = []\n",
    "x_train_m = []\n",
    "for dataset_num in range(3):\n",
    "    x_test_m.append(x_test[dataset_num].drop(columns=['RID']).as_matrix())\n",
    "    x_train_m.append(x_train[dataset_num].drop(columns=['RID']).as_matrix())\n"
   ]
  },
  {
   "cell_type": "markdown",
   "metadata": {},
   "source": [
    "# XGBoost"
   ]
  },
  {
   "cell_type": "code",
   "execution_count": 28,
   "metadata": {},
   "outputs": [],
   "source": [
    "from xgboost import XGBClassifier"
   ]
  },
  {
   "cell_type": "code",
   "execution_count": 29,
   "metadata": {},
   "outputs": [],
   "source": [
    "def get_calibration(X_test, Y_test):\n",
    "    cal_X = X_test\n",
    "    cal_y = Y_test\n",
    "    cal_groups = X_test.T[2]\n",
    "    cal_group_kfold = GroupKFold(n_splits=2)\n",
    "    cal_group_kfold.get_n_splits(cal_X, cal_y, cal_groups)\n",
    "    \n",
    "    for cal_train_index, cal_test_index in cal_group_kfold.split(cal_X, cal_y, cal_groups):\n",
    "        X_cal, X_test = cal_X[cal_train_index], cal_X[cal_test_index]\n",
    "        Y_cal, Y_test = cal_y[cal_train_index], cal_y[cal_test_index]\n",
    "    return X_cal, X_test, Y_cal, Y_test"
   ]
  },
  {
   "cell_type": "code",
   "execution_count": 30,
   "metadata": {},
   "outputs": [],
   "source": [
    "def get_weight_ratio(y_train):\n",
    "    return len(y_train_arr[y_train_arr == 0])/len(y_train_arr[y_train_arr == 1])"
   ]
  },
  {
   "cell_type": "code",
   "execution_count": 31,
   "metadata": {},
   "outputs": [],
   "source": [
    "from sklearn.model_selection import GroupKFold"
   ]
  },
  {
   "cell_type": "code",
   "execution_count": 32,
   "metadata": {
    "scrolled": true
   },
   "outputs": [],
   "source": [
    "def grid_search_model(dataset_num):\n",
    "    X = x_train_m[dataset_num]\n",
    "    y = np.array(y_train[dataset_num])\n",
    "    groups = x_train[dataset_num].RID.values.astype(int)\n",
    "    group_kfold = GroupKFold(n_splits=5)\n",
    "    group_kfold.get_n_splits(X, y, groups)\n",
    "    f = open('{}_{}_{}.txt'.format(Type, Features, dataset_num), 'x')\n",
    "    f.close()\n",
    "    scores = []\n",
    "    min_score = np.inf\n",
    "    best_lr = 0\n",
    "    best_depth = 0\n",
    "    best_flag = None\n",
    "    for lr in tqdm_notebook([0.001, 0.003, 0.01, 0.03, 0.1, 0.3, 1], ascii = True, desc = 'learning rate'):\n",
    "        for depth in tqdm_notebook([1,2,4,6,8], ascii = True, desc = 'depth'):\n",
    "            for train_index, test_index in group_kfold.split(X, y, groups):\n",
    "                \n",
    "                X_train, X_test = X[train_index], X[test_index]\n",
    "                Y_train, Y_test = y[train_index], y[test_index]\n",
    "\n",
    "                X_cal, X_test, Y_cal, Y_test = get_calibration(X_test, Y_test)\n",
    "\n",
    "                tree = XGBClassifier(n_estimators= 2000, learning_rate = lr, max_depth = depth, silent=True,\\\n",
    "                                                 objective = 'binary:logistic',random_state=Random_seed,\\\n",
    "                                                 scale_pos_weight = get_weight_ratio(Y_train), n_jobs = -1)\n",
    "\n",
    "                tree.fit(X_train, Y_train,\\\n",
    "                         eval_set= [(X_test, Y_test)],\\\n",
    "                         eval_metric = 'logloss', early_stopping_rounds = 50, verbose = False)\n",
    "\n",
    "                CCV = CalibratedClassifierCV(base_estimator=tree, cv='prefit')\n",
    "                CCV.fit(X_cal, Y_cal)\n",
    "\n",
    "                y_probabilities = CCV.predict_proba(X_test)\n",
    "                scores.append(log_loss(Y_test, y_probabilities[:,1]))\n",
    "                print(mean(scores), end = '')\n",
    "                print('\\r', end='')\n",
    "                \n",
    "            if mean(scores) < min_score:\n",
    "                min_score = mean(scores)\n",
    "                best_lr = lr\n",
    "                best_depth = depth\n",
    "                best_flag = True\n",
    "            scores = []\n",
    "            if best_lr == lr and best_depth == depth:\n",
    "                f = open('{}_{}_{}.txt'.format(Type, Features, dataset_num), 'a')\n",
    "                string = 'Лучшее на данный момент: LR = {}, Depth = {}, Flag = {}, Mean LogLoss = {}\\n'.format(best_lr,\\\n",
    "                                                                          best_depth, best_flag, min_score)\n",
    "                f.write(string)\n",
    "                print('Лучшее на данный момент: LR = {}, Depth = {}, Flag = {}, Mean LogLoss = {}'.format(best_lr,\\\n",
    "                                                                          best_depth, best_flag, min_score),\\\n",
    "                      end = '')\n",
    "                print('\\r', end='')\n",
    "                print()\n",
    "                f.close()\n",
    "            \n",
    "    tree = XGBClassifier(n_estimators= 2000, learning_rate = best_lr, max_depth = best_depth, silent=True,\\\n",
    "                                     objective = 'binary:logistic',random_state=Random_seed,\\\n",
    "                                     scale_pos_weight = get_weight_ratio(Y_train), n_jobs = -1)\n",
    "\n",
    "    tree.fit(X_train, Y_train,\\\n",
    "             eval_set= [(X_test, Y_test)],\\\n",
    "             eval_metric = 'logloss', early_stopping_rounds = 50, verbose = False)\n",
    "\n",
    "    CCV = CalibratedClassifierCV(base_estimator=tree, cv='prefit')\n",
    "    CCV.fit(X_cal, Y_cal)\n",
    "    f = open('{}_{}_{}.txt'.format(Type, Features, dataset_num), 'a')\n",
    "    f.write('best_lr = {}, best_depth = {}'.format(best_lr, best_depth))\n",
    "    print('lr', best_lr)\n",
    "    print('depth', best_depth)\n",
    "    f.close()\n",
    "    return CCV"
   ]
  },
  {
   "cell_type": "code",
   "execution_count": 33,
   "metadata": {
    "scrolled": true
   },
   "outputs": [],
   "source": [
    "def train_model(dataset_num, lr, depth):\n",
    "    X = x_train_m[dataset_num]\n",
    "    y = np.array(y_train[dataset_num])\n",
    "    groups = x_train[dataset_num].RID.values.astype(int)\n",
    "    group_kfold = GroupKFold(n_splits=5)\n",
    "    group_kfold.get_n_splits(X, y, groups)\n",
    "\n",
    "    for train_index, cal_index in group_kfold.split(X, y, groups):\n",
    "        X_train, X_cal = X[train_index], X[cal_index]\n",
    "        Y_train, Y_cal = y[train_index], y[cal_index]\n",
    "\n",
    "    tree = XGBClassifier(n_estimators= 2000, learning_rate = lr, max_depth = depth, silent=True,\\\n",
    "                                     objective = 'binary:logistic',random_state=Random_seed,\\\n",
    "                                     scale_pos_weight = get_weight_ratio(Y_train), n_jobs = -1)\n",
    "#try without eval_set on full dataset\n",
    "    tree.fit(X_train, Y_train,\\\n",
    "#              eval_set= [(X_test, Y_test)],\\\n",
    "#              eval_metric = 'logloss', early_stopping_rounds = 50,\\\n",
    "             verbose = False)\n",
    "\n",
    "    CCV = CalibratedClassifierCV(base_estimator=tree, cv='prefit')\n",
    "    CCV.fit(X_cal, Y_cal)\n",
    "    return CCV"
   ]
  },
  {
   "cell_type": "code",
   "execution_count": null,
   "metadata": {
    "scrolled": false
   },
   "outputs": [
    {
     "data": {
      "application/vnd.jupyter.widget-view+json": {
       "model_id": "eddee7b79b1148d7be651fadbaa9de2d",
       "version_major": 2,
       "version_minor": 0
      },
      "text/plain": [
       "HBox(children=(IntProgress(value=0, description='learning rate', max=7), HTML(value='')))"
      ]
     },
     "metadata": {},
     "output_type": "display_data"
    },
    {
     "data": {
      "application/vnd.jupyter.widget-view+json": {
       "model_id": "4e4c82fd18c94825b581c14ae75b5e78",
       "version_major": 2,
       "version_minor": 0
      },
      "text/plain": [
       "HBox(children=(IntProgress(value=0, description='depth', max=5), HTML(value='')))"
      ]
     },
     "metadata": {},
     "output_type": "display_data"
    },
    {
     "name": "stdout",
     "output_type": "stream",
     "text": [
      "Лучшее на данный момент: LR = 0.001, Depth = 1, Flag = True, Mean LogLoss = 0.34949736527440134\n",
      "Лучшее на данный момент: LR = 0.001, Depth = 2, Flag = True, Mean LogLoss = 0.2884551418183151\n",
      "Лучшее на данный момент: LR = 0.001, Depth = 4, Flag = True, Mean LogLoss = 0.2798608883464167\n",
      "0.306341386828\r"
     ]
    },
    {
     "data": {
      "application/vnd.jupyter.widget-view+json": {
       "model_id": "1e0b70b693844d61bb1807ec1a44f275",
       "version_major": 2,
       "version_minor": 0
      },
      "text/plain": [
       "HBox(children=(IntProgress(value=0, description='depth', max=5), HTML(value='')))"
      ]
     },
     "metadata": {},
     "output_type": "display_data"
    },
    {
     "name": "stdout",
     "output_type": "stream",
     "text": [
      "Лучшее на данный момент: LR = 0.003, Depth = 2, Flag = True, Mean LogLoss = 0.2680699125869713\n",
      "0.292698083555\r"
     ]
    },
    {
     "data": {
      "application/vnd.jupyter.widget-view+json": {
       "model_id": "9d4ca566b3904aacaa0f109dfab2c3cb",
       "version_major": 2,
       "version_minor": 0
      },
      "text/plain": [
       "HBox(children=(IntProgress(value=0, description='depth', max=5), HTML(value='')))"
      ]
     },
     "metadata": {},
     "output_type": "display_data"
    },
    {
     "name": "stdout",
     "output_type": "stream",
     "text": [
      "0.292020353038\r"
     ]
    },
    {
     "data": {
      "application/vnd.jupyter.widget-view+json": {
       "model_id": "a1ec1b3fac7e4d839b84a598080f76bf",
       "version_major": 2,
       "version_minor": 0
      },
      "text/plain": [
       "HBox(children=(IntProgress(value=0, description='depth', max=5), HTML(value='')))"
      ]
     },
     "metadata": {},
     "output_type": "display_data"
    },
    {
     "name": "stdout",
     "output_type": "stream",
     "text": [
      "Лучшее на данный момент: LR = 0.03, Depth = 4, Flag = True, Mean LogLoss = 0.26806016725878873\n",
      "0.292432801395\r"
     ]
    },
    {
     "data": {
      "application/vnd.jupyter.widget-view+json": {
       "model_id": "f29aa72164ef4af797fdb7aad4777f0c",
       "version_major": 2,
       "version_minor": 0
      },
      "text/plain": [
       "HBox(children=(IntProgress(value=0, description='depth', max=5), HTML(value='')))"
      ]
     },
     "metadata": {},
     "output_type": "display_data"
    },
    {
     "name": "stdout",
     "output_type": "stream",
     "text": [
      "Лучшее на данный момент: LR = 0.1, Depth = 2, Flag = True, Mean LogLoss = 0.2670177560220904\n",
      "0.293474847552\r"
     ]
    },
    {
     "data": {
      "application/vnd.jupyter.widget-view+json": {
       "model_id": "7b190d2c97ca4eb69821c2dded190d59",
       "version_major": 2,
       "version_minor": 0
      },
      "text/plain": [
       "HBox(children=(IntProgress(value=0, description='depth', max=5), HTML(value='')))"
      ]
     },
     "metadata": {},
     "output_type": "display_data"
    },
    {
     "name": "stdout",
     "output_type": "stream",
     "text": [
      "0.294175866727\r"
     ]
    },
    {
     "data": {
      "application/vnd.jupyter.widget-view+json": {
       "model_id": "b232ed0aab184f5f8bb6694961cf7e76",
       "version_major": 2,
       "version_minor": 0
      },
      "text/plain": [
       "HBox(children=(IntProgress(value=0, description='depth', max=5), HTML(value='')))"
      ]
     },
     "metadata": {},
     "output_type": "display_data"
    },
    {
     "name": "stdout",
     "output_type": "stream",
     "text": [
      "0.347899640124\n",
      "lr 0.1\n",
      "depth 2\n",
      "dataset num 0 error 0.334600293682\n"
     ]
    },
    {
     "data": {
      "application/vnd.jupyter.widget-view+json": {
       "model_id": "bed67a75719943018f48e7047fa9cb0c",
       "version_major": 2,
       "version_minor": 0
      },
      "text/plain": [
       "HBox(children=(IntProgress(value=0, description='learning rate', max=7), HTML(value='')))"
      ]
     },
     "metadata": {},
     "output_type": "display_data"
    },
    {
     "data": {
      "application/vnd.jupyter.widget-view+json": {
       "model_id": "b4953bd7357649cda2763706347d1777",
       "version_major": 2,
       "version_minor": 0
      },
      "text/plain": [
       "HBox(children=(IntProgress(value=0, description='depth', max=5), HTML(value='')))"
      ]
     },
     "metadata": {},
     "output_type": "display_data"
    },
    {
     "name": "stdout",
     "output_type": "stream",
     "text": [
      "Лучшее на данный момент: LR = 0.001, Depth = 1, Flag = True, Mean LogLoss = 0.3472257000388465\n",
      "Лучшее на данный момент: LR = 0.001, Depth = 2, Flag = True, Mean LogLoss = 0.2945575071083105\n",
      "Лучшее на данный момент: LR = 0.001, Depth = 4, Flag = True, Mean LogLoss = 0.2886995511214321\n",
      "0.299264670083\r"
     ]
    },
    {
     "data": {
      "application/vnd.jupyter.widget-view+json": {
       "model_id": "6507e47e878a47dc9740fc67f5f5ad73",
       "version_major": 2,
       "version_minor": 0
      },
      "text/plain": [
       "HBox(children=(IntProgress(value=0, description='depth', max=5), HTML(value='')))"
      ]
     },
     "metadata": {},
     "output_type": "display_data"
    },
    {
     "name": "stdout",
     "output_type": "stream",
     "text": [
      "Лучшее на данный момент: LR = 0.003, Depth = 2, Flag = True, Mean LogLoss = 0.28223841963645463\n",
      "0.300561605692\r"
     ]
    },
    {
     "data": {
      "application/vnd.jupyter.widget-view+json": {
       "model_id": "ce6e012c3b674c93aa032872fd65f56e",
       "version_major": 2,
       "version_minor": 0
      },
      "text/plain": [
       "HBox(children=(IntProgress(value=0, description='depth', max=5), HTML(value='')))"
      ]
     },
     "metadata": {},
     "output_type": "display_data"
    },
    {
     "name": "stdout",
     "output_type": "stream",
     "text": [
      "Лучшее на данный момент: LR = 0.01, Depth = 2, Flag = True, Mean LogLoss = 0.280754492557291\n",
      "0.300297185228\r"
     ]
    },
    {
     "data": {
      "application/vnd.jupyter.widget-view+json": {
       "model_id": "04ad3a0e671643189ff5f3b1201200d1",
       "version_major": 2,
       "version_minor": 0
      },
      "text/plain": [
       "HBox(children=(IntProgress(value=0, description='depth', max=5), HTML(value='')))"
      ]
     },
     "metadata": {},
     "output_type": "display_data"
    },
    {
     "name": "stdout",
     "output_type": "stream",
     "text": [
      "Лучшее на данный момент: LR = 0.03, Depth = 2, Flag = True, Mean LogLoss = 0.2804212494731242\n",
      "0.301666121668\r"
     ]
    },
    {
     "data": {
      "application/vnd.jupyter.widget-view+json": {
       "model_id": "a004214b2a1148b39e2b2fbed77b647c",
       "version_major": 2,
       "version_minor": 0
      },
      "text/plain": [
       "HBox(children=(IntProgress(value=0, description='depth', max=5), HTML(value='')))"
      ]
     },
     "metadata": {},
     "output_type": "display_data"
    },
    {
     "name": "stdout",
     "output_type": "stream",
     "text": [
      "0.292749623294\r"
     ]
    }
   ],
   "source": [
    "if Grid_search:\n",
    "    preds = []\n",
    "    models = []\n",
    "    for i in range(3):\n",
    "        CCV = grid_search_model(i)\n",
    "        y_probabilities = CCV.predict_proba(x_test_m[i])\n",
    "        print('dataset num', i, 'error', log_loss(y_test[i], y_probabilities[:,1]))\n",
    "        models.append(CCV)\n",
    "        preds.append(CCV.predict(x_test_m[i]))"
   ]
  },
  {
   "cell_type": "code",
   "execution_count": 35,
   "metadata": {
    "scrolled": true
   },
   "outputs": [
    {
     "name": "stdout",
     "output_type": "stream",
     "text": [
      "dataset num 0 error 0.373872860491\n",
      "dataset num 1 error 0.345796062288\n",
      "dataset num 2 error 0.291251811068\n"
     ]
    }
   ],
   "source": [
    "lrs = [0.1, 0.3, 0.01]\n",
    "depths = [2,2,2]\n",
    "preds = []\n",
    "models = []\n",
    "for i in range(3):\n",
    "    CCV = train_model(i, lrs[i], depths[i])\n",
    "    y_probabilities = CCV.predict_proba(x_test_m[i])\n",
    "    print('dataset num', i, 'error', log_loss(y_test[i], y_probabilities[:,1]))\n",
    "    models.append(CCV)\n",
    "    preds.append(CCV.predict(x_test_m[i]))"
   ]
  },
  {
   "cell_type": "markdown",
   "metadata": {},
   "source": [
    "# Logistic Regression"
   ]
  },
  {
   "cell_type": "code",
   "execution_count": 36,
   "metadata": {},
   "outputs": [],
   "source": [
    "if Type == 'LogisticRegression':\n",
    "    from sklearn.linear_model import LogisticRegression as LogReg\n",
    "    \n",
    "    CCV = LogReg(penalty= 'l1', class_weight= dictionary,\\\n",
    "                   random_state=Random_seed, max_iter = 1000)\n",
    "\n",
    "    CCV.fit(x_train.drop(columns = ['RID']), y_train)"
   ]
  },
  {
   "cell_type": "markdown",
   "metadata": {},
   "source": [
    "# Metrics"
   ]
  },
  {
   "cell_type": "code",
   "execution_count": 37,
   "metadata": {},
   "outputs": [
    {
     "name": "stdout",
     "output_type": "stream",
     "text": [
      "DATASET # 0\n",
      "log loss = 0.37387286049105334\n",
      "DATASET # 1\n",
      "log loss = 0.34579606228757614\n",
      "DATASET # 2\n",
      "log loss = 0.2912518110684073\n"
     ]
    }
   ],
   "source": [
    "if Print_metrics:\n",
    "    for dataset_num in range(Datasets_amount):\n",
    "        print('DATASET # {}'.format(dataset_num))\n",
    "        y_probabilities = models[dataset_num].predict_proba(x_test_m[dataset_num])\n",
    "        print(\"log loss = {}\".format(log_loss(y_test[dataset_num], y_probabilities[:,1])))"
   ]
  },
  {
   "cell_type": "code",
   "execution_count": 38,
   "metadata": {},
   "outputs": [
    {
     "data": {
      "image/png": "[encoded data removed]",
      "text/plain": [
       "<Figure size 288x288 with 2 Axes>"
      ]
     },
     "metadata": {},
     "output_type": "display_data"
    },
    {
     "data": {
      "image/png": "[encoded data removed]",
      "text/plain": [
       "<Figure size 288x288 with 2 Axes>"
      ]
     },
     "metadata": {},
     "output_type": "display_data"
    },
    {
     "data": {
      "image/png": "[encoded data removed]",
      "text/plain": [
       "<Figure size 288x288 with 2 Axes>"
      ]
     },
     "metadata": {},
     "output_type": "display_data"
    }
   ],
   "source": [
    "if Print_graphs:\n",
    "    for dataset_num in range(Datasets_amount):\n",
    "        pgf_with_rc_fonts = {\"pgf.texsystem\": \"pdflatex\"}\n",
    "        matplotlib.rcParams.update(pgf_with_rc_fonts)\n",
    "\n",
    "        from sklearn.metrics import confusion_matrix\n",
    "\n",
    "        plt.figure(figsize(4,4))\n",
    "        cm = confusion_matrix(y_test[dataset_num], preds[dataset_num])\n",
    "        sns.heatmap(cm,annot=True,fmt=\"d\")"
   ]
  },
  {
   "cell_type": "code",
   "execution_count": 39,
   "metadata": {},
   "outputs": [],
   "source": [
    "def perf_measure(y_actual, y_pred):\n",
    "    TP = 0\n",
    "    FP = 0\n",
    "    TN = 0\n",
    "    FN = 0\n",
    "\n",
    "    for i in range(len(y_pred)): \n",
    "        if y_actual[i]==y_pred[i]==1:\n",
    "            TP += 1\n",
    "        if y_pred[i]==1 and y_actual[i]!=y_pred[i]:\n",
    "            FP += 1\n",
    "        if y_actual[i]==y_pred[i]==0:\n",
    "            TN += 1\n",
    "        if y_pred[i]==0 and y_actual[i]!=y_pred[i]:\n",
    "            FN += 1\n",
    "\n",
    "    return TP, FP, TN, FN"
   ]
  },
  {
   "cell_type": "code",
   "execution_count": 40,
   "metadata": {},
   "outputs": [
    {
     "name": "stdout",
     "output_type": "stream",
     "text": [
      "DATASET # 0\n",
      "log loss = 0.37387286049105334\n",
      "\n",
      "ACC = 0.8507670850767085\n",
      "ROC AUC = 0.9351372216377892\n",
      "SENC = 0.8587639311043567\n",
      "SPEC = 0.8417692658458732\n",
      "AV. PREC = 0.8127014598307147\n",
      "             precision    recall  f1-score   support\n",
      "\n",
      "        0.0       0.84      0.84      0.84      4386\n",
      "        1.0       0.86      0.86      0.86      4935\n",
      "\n",
      "avg / total       0.85      0.85      0.85      9321\n",
      "\n",
      "Сколько раз мы говорим человеку, что он болен, когда он болен 85.9%\n",
      "        Сколько раз мы говорим человеку, что он болен, когда он здоров 15.8%\n",
      "##############################################################################\n",
      "##############################################################################\n",
      "DATASET # 1\n",
      "log loss = 0.34579606228757614\n",
      "\n",
      "ACC = 0.872954014029618\n",
      "ROC AUC = 0.9527952127731621\n",
      "SENC = 0.9132678132678133\n",
      "SPEC = 0.827728776185226\n",
      "AV. PREC = 0.827665477362109\n",
      "             precision    recall  f1-score   support\n",
      "\n",
      "        0.0       0.89      0.83      0.86      3628\n",
      "        1.0       0.86      0.91      0.88      4070\n",
      "\n",
      "avg / total       0.87      0.87      0.87      7698\n",
      "\n",
      "Сколько раз мы говорим человеку, что он болен, когда он болен 91.3%\n",
      "        Сколько раз мы говорим человеку, что он болен, когда он здоров 17.2%\n",
      "##############################################################################\n",
      "##############################################################################\n",
      "DATASET # 2\n",
      "log loss = 0.2912518110684073\n",
      "\n",
      "ACC = 0.8724910082376146\n",
      "ROC AUC = 0.9560732113236048\n",
      "SENC = 0.8784970390034715\n",
      "SPEC = 0.8645889306824288\n",
      "AV. PREC = 0.8554035392679835\n",
      "             precision    recall  f1-score   support\n",
      "\n",
      "        0.0       0.84      0.86      0.85      3722\n",
      "        1.0       0.90      0.88      0.89      4897\n",
      "\n",
      "avg / total       0.87      0.87      0.87      8619\n",
      "\n",
      "Сколько раз мы говорим человеку, что он болен, когда он болен 87.8%\n",
      "        Сколько раз мы говорим человеку, что он болен, когда он здоров 13.5%\n",
      "##############################################################################\n",
      "##############################################################################\n"
     ]
    }
   ],
   "source": [
    "res_arrs = []\n",
    "for dataset_num in range(Datasets_amount):\n",
    "    res_array = []\n",
    "    res_array.append(Type)\n",
    "    res_array.append(dataset_num)\n",
    "    res_array.append(Features)\n",
    "\n",
    "    y_pred = models[dataset_num].predict(x_test_m[dataset_num])\n",
    "    y_probabilities = models[dataset_num].predict_proba(x_test_m[dataset_num])\n",
    "    TP, FP, TN, FN = perf_measure(y_test[dataset_num], y_pred)\n",
    "    TPR = TP/(TP + FN)\n",
    "    FPR = FP/(FP + TN)\n",
    "    if Print_metrics:\n",
    "        print('DATASET # {}'.format(dataset_num))\n",
    "        print(\"log loss = {}\\n\".format(log_loss(y_test[dataset_num], y_probabilities[:,1])))\n",
    "    \n",
    "        print(\"ACC = {}\".format((TP+TN)/len(y_test[dataset_num])))\n",
    "        print(\"ROC AUC = {}\".format(roc_auc_score(y_test[dataset_num], y_probabilities[:,1])))\n",
    "        print(\"SENC = {}\".format(TP/(TP+FN)))\n",
    "        print(\"SPEC = {}\".format(TN/(TN+FP)))\n",
    "        print(\"AV. PREC = {}\".format(metrics.average_precision_score(y_test[dataset_num], y_pred)))\n",
    "        print(metrics.classification_report(y_test[dataset_num], y_pred))\n",
    "        print('Сколько раз мы говорим человеку, что он болен, когда он болен {}%\\n\\\n",
    "        Сколько раз мы говорим человеку, что он болен, когда он здоров {}%'.format(round(TPR*100,1), round(FPR*100,1)))\n",
    "        print('##############################################################################')\n",
    "        print('##############################################################################')\n",
    "        \n",
    "    res_array.append(log_loss(y_test[dataset_num], y_probabilities[:,1]))\n",
    "    res_array.append((TP+TN)/len(y_test[dataset_num]))  \n",
    "    res_array.append(roc_auc_score(y_test[dataset_num], y_probabilities[:,1]))\n",
    "    res_array.append(100-round(TPR*100,1))\n",
    "    res_array.append(round(FPR*100,1))\n",
    "    res_arrs.append(res_array)"
   ]
  },
  {
   "cell_type": "code",
   "execution_count": 41,
   "metadata": {
    "scrolled": false
   },
   "outputs": [],
   "source": [
    "# if Print_graphs:\n",
    "#     for dataset_num in range(Datasets_amount):\n",
    "#         imp = models[dataset_num].feature_importances_\n",
    "#         names = x_train[dataset_num].drop(columns = ['RID']).columns\n",
    "\n",
    "#         imp,names = zip(*sorted(zip(imp, names)))\n",
    "\n",
    "#         plt.figure(figsize(30,20))\n",
    "\n",
    "#         plt.barh(range(len(names[103:])), imp[103:], align = 'center')\n",
    "#         plt.yticks(range(len(names[103:])), names[103:], fontsize = 'xx-large')\n",
    "#         plt.xlabel('Importance of features', fontsize = 'xx-large')\n",
    "#         plt.ylabel('Features', fontsize = 'xx-large')\n",
    "#         plt.title('Feature importance', fontsize = 'xx-large')\n",
    "\n",
    "#         if Save_graphs:\n",
    "#             plt.savefig('cli+emb_imp_1.png', dpi=200)\n",
    "#         plt.show()"
   ]
  },
  {
   "cell_type": "markdown",
   "metadata": {},
   "source": [
    "# TEST"
   ]
  },
  {
   "cell_type": "code",
   "execution_count": 42,
   "metadata": {},
   "outputs": [],
   "source": [
    "for i in range(3):\n",
    "    Test[i] = Test[i].drop(Test[i].loc[Test[i].health_flag == 'health'].index)"
   ]
  },
  {
   "cell_type": "code",
   "execution_count": 43,
   "metadata": {},
   "outputs": [],
   "source": [
    "def pmf_dataset(X):\n",
    "    X = X.drop(columns = Test[0].columns[np.where(Test[0].columns == 'DXCURREN')[0][0]:])\n",
    "    X.drop(columns = ['RID'], inplace = True)\n",
    "    df = X.copy()\n",
    "    \n",
    "    p_so_far = 1\n",
    "    A = []\n",
    "    df_m = df.as_matrix()\n",
    "    p_cur = models[dataset_num].predict_proba(df_m)[:,1]\n",
    "    for el in p_cur:\n",
    "        A.append(p_so_far * el)\n",
    "        p_so_far *= (1 - el)\n",
    "    return (6*np.argmax(A))"
   ]
  },
  {
   "cell_type": "code",
   "execution_count": 44,
   "metadata": {
    "scrolled": false
   },
   "outputs": [
    {
     "data": {
      "application/vnd.jupyter.widget-view+json": {
       "model_id": "740897dd69314ba69599a3e81d764890",
       "version_major": 2,
       "version_minor": 0
      },
      "text/plain": [
       "HBox(children=(IntProgress(value=0, max=3), HTML(value='')))"
      ]
     },
     "metadata": {},
     "output_type": "display_data"
    },
    {
     "name": "stderr",
     "output_type": "stream",
     "text": [
      "/nmnt/media/home/l0ki4/anaconda3/lib/python3.6/site-packages/ipykernel_launcher.py:8: FutureWarning: Method .as_matrix will be removed in a future version. Use .values instead.\n",
      "  \n"
     ]
    },
    {
     "name": "stdout",
     "output_type": "stream",
     "text": [
      "\n"
     ]
    }
   ],
   "source": [
    "answ = []\n",
    "act = []\n",
    "for dataset_num in tqdm_notebook(range(Datasets_amount)):\n",
    "    full_predict = Test[dataset_num].groupby(['RID', 'time_real']).apply(pmf_dataset)\n",
    "    answers = []\n",
    "    actual = []\n",
    "    for el in full_predict.index:\n",
    "        predict = full_predict[el] \n",
    "        time_real = el[1]\n",
    "        answers.append(predict)\n",
    "        actual.append(Test[dataset_num].loc[Test[dataset_num]['RID'] == el[0]]['debute_time'].values[0])\n",
    "    answ.append(answers)\n",
    "    act.append(actual)"
   ]
  },
  {
   "cell_type": "markdown",
   "metadata": {},
   "source": [
    "# Посчитаем метрики и порисуем графики"
   ]
  },
  {
   "cell_type": "code",
   "execution_count": 45,
   "metadata": {},
   "outputs": [],
   "source": [
    "def count_error_less_n(Y, T, n):\n",
    "    less = [[],[]]\n",
    "    for i in range(len(Y)):\n",
    "        if T[i] < n:\n",
    "            less[0].append(T[i])  \n",
    "            less[1].append(Y[i])\n",
    "    return less"
   ]
  },
  {
   "cell_type": "code",
   "execution_count": 46,
   "metadata": {},
   "outputs": [
    {
     "name": "stdout",
     "output_type": "stream",
     "text": [
      "Datset number  0\n",
      "RMSE:28.579153241480057\n",
      "R2:0.08480702207306057\n",
      "\n",
      "Datset number  1\n",
      "RMSE:28.009998214923183\n",
      "R2:0.21996420759594348\n",
      "\n",
      "Datset number  2\n",
      "RMSE:20.138458782237876\n",
      "R2:0.3628352686529409\n",
      "\n",
      "Mean RMSE:  25.5758700795\n",
      "Mean R2:  0.222535499441\n"
     ]
    }
   ],
   "source": [
    "rmse = []\n",
    "r2 = []\n",
    "for dataset_num in range(Datasets_amount):\n",
    "    T_test_death = act[dataset_num]\n",
    "    Y = answ[dataset_num]\n",
    "    \n",
    "    if Print_metrics:\n",
    "        print('Datset number ',dataset_num)\n",
    "        string = 'RMSE:{}'.format(sqrt(sklearn.metrics.mean_squared_error(T_test_death, Y)))\n",
    "        print(string)\n",
    "        rmse.append(sqrt(sklearn.metrics.mean_squared_error(T_test_death, Y)))\n",
    "        string = 'R2:{}\\n'.format(sklearn.metrics.r2_score(T_test_death, Y))\n",
    "        r2.append(sklearn.metrics.r2_score(T_test_death, Y))\n",
    "        print(string)\n",
    "    \n",
    "    res_arrs[dataset_num].append(sqrt(sklearn.metrics.mean_squared_error(T_test_death, Y)))\n",
    "    res_arrs[dataset_num].append(sklearn.metrics.r2_score(T_test_death, Y))\n",
    "    \n",
    "if Print_metrics:\n",
    "    print('Mean RMSE: ', mean(rmse))\n",
    "    print('Mean R2: ', mean(r2))"
   ]
  },
  {
   "cell_type": "code",
   "execution_count": 47,
   "metadata": {
    "scrolled": false
   },
   "outputs": [
    {
     "data": {
      "image/png": "[encoded data removed]",
      "text/plain": [
       "<Figure size 720x720 with 1 Axes>"
      ]
     },
     "metadata": {},
     "output_type": "display_data"
    },
    {
     "data": {
      "image/png": "[encoded data removed]",
      "text/plain": [
       "<Figure size 720x720 with 1 Axes>"
      ]
     },
     "metadata": {},
     "output_type": "display_data"
    },
    {
     "data": {
      "image/png": "[encoded data removed]",
      "text/plain": [
       "<Figure size 720x720 with 1 Axes>"
      ]
     },
     "metadata": {},
     "output_type": "display_data"
    }
   ],
   "source": [
    "y_s = [None, None, None]\n",
    "x_s = [None, None, None]\n",
    "for dataset_num in range(Datasets_amount):\n",
    "    T_test_death = act[dataset_num]\n",
    "    Y = answ[dataset_num]\n",
    "    max_month = 120\n",
    "    test = np.array(T_test_death)\n",
    "\n",
    "    y = []\n",
    "    x = []\n",
    "    for i in np.array(range(min(T_test_death)+1,max_month+1)):\n",
    "        less = count_error_less_n(Y, T_test_death, i)\n",
    "\n",
    "        y.append(sqrt(sklearn.metrics.mean_squared_error(less[0], less[1])))\n",
    "        x.append(i)\n",
    "    \n",
    "    y_s[dataset_num] = y\n",
    "    x_s[dataset_num] = x\n",
    "    \n",
    "    if Print_graphs:\n",
    "        plt.figure(figsize(10,10))\n",
    "        plt.plot(x, y, '-')\n",
    "        plt.legend(['RMSE','RMSLE', 'CV', 'R2'])\n",
    "        plt.ylabel('Error')\n",
    "        plt.xlabel('Month bound')\n",
    "        plt.title('Clinial & MRT data, Dataset # {}'.format(dataset_num))"
   ]
  },
  {
   "cell_type": "code",
   "execution_count": null,
   "metadata": {},
   "outputs": [],
   "source": [
    "import matplotlib.ticker as ticker\n",
    "\n",
    "def get_area(pred, act):\n",
    "    res = df.loc[df['Предсказанный месяц дебюта'] == pred].loc[df['Фактический месяц дебюта'] == act].shape[0]\n",
    "    return res\n",
    "\n",
    "if Print_graphs:\n",
    "    for dataset_num in range(Datasets_amount):\n",
    "        T_test_death = act[dataset_num]\n",
    "        Y = answ[dataset_num]\n",
    "        preds = np.vstack([Y, T_test_death])\n",
    "\n",
    "        df = pd.DataFrame(preds.T, columns = ['Предсказанный месяц дебюта', 'Фактический месяц дебюта'])\n",
    "        df['new_column'] = np.vectorize(get_area)(df['Предсказанный месяц дебюта'], df['Фактический месяц дебюта'])\n",
    "        sns.set(font_scale=2)\n",
    "        \n",
    "        g = sns.jointplot(data = df, x= 'Фактический месяц дебюта', y = 'Предсказанный месяц дебюта',\\\n",
    "                          xlim = (min(df['Фактический месяц дебюта'])-5,max(df['Фактический месяц дебюта']+5)),\\\n",
    "                          ylim = (min(df['Предсказанный месяц дебюта'])-5,max(df['Предсказанный месяц дебюта']+5)),\\\n",
    "                          kind = 'reg', scatter_kws={'s':50*df['new_column']})#, palette=sns.diverging_palette(240, 10, n=2), linewidth=5.5)\n",
    "        \n",
    "        sns.lineplot(x= list(range(min(df['Фактический месяц дебюта']), max(df['Фактический месяц дебюта']))),\\\n",
    "                     y= list(range(min(df['Фактический месяц дебюта']), max(df['Фактический месяц дебюта']))),\\\n",
    "                     linewidth = 3, color = 'red')\n",
    "\n",
    "        g.fig.set_size_inches((50,25))\n",
    "        g.ax_joint.xaxis.set_major_locator(ticker.MultipleLocator(6))\n",
    "        g.ax_joint.yaxis.set_major_locator(ticker.MultipleLocator(6))\n",
    "\n",
    "        if Save_graphs:\n",
    "            g.savefig('month_dist.pdf', dpi = 300)\n",
    "        if Save_results:\n",
    "            df.to_pickle('results\\{}\\{}_{}.pckl'.format(Type, Features, dataset_num))"
   ]
  },
  {
   "cell_type": "code",
   "execution_count": 48,
   "metadata": {
    "scrolled": false
   },
   "outputs": [],
   "source": [
    "results = pd.read_csv('result.csv').drop(columns = ['Unnamed: 0'])\n",
    "result_sample = pd.read_csv('result_sample.csv').drop(columns = ['Unnamed: 0'])\n",
    "\n",
    "for dataset_num in range(Datasets_amount):\n",
    "    for i in range(len(result_sample.columns)):\n",
    "        result_sample[result_sample.columns[i]] = res_arrs[dataset_num][i]\n",
    "    results = pd.concat([results, result_sample]).reset_index(drop= True)"
   ]
  },
  {
   "cell_type": "code",
   "execution_count": 49,
   "metadata": {},
   "outputs": [
    {
     "data": {
      "text/html": [
       "<div>\n",
       "<style scoped>\n",
       "    .dataframe tbody tr th:only-of-type {\n",
       "        vertical-align: middle;\n",
       "    }\n",
       "\n",
       "    .dataframe tbody tr th {\n",
       "        vertical-align: top;\n",
       "    }\n",
       "\n",
       "    .dataframe thead th {\n",
       "        text-align: right;\n",
       "    }\n",
       "</style>\n",
       "<table border=\"1\" class=\"dataframe\">\n",
       "  <thead>\n",
       "    <tr style=\"text-align: right;\">\n",
       "      <th></th>\n",
       "      <th>Type</th>\n",
       "      <th>Dataset_number</th>\n",
       "      <th>Features</th>\n",
       "      <th>log_loss</th>\n",
       "      <th>ACC</th>\n",
       "      <th>ROC AUC</th>\n",
       "      <th>TPR</th>\n",
       "      <th>FPR</th>\n",
       "      <th>RMSE</th>\n",
       "      <th>R2</th>\n",
       "    </tr>\n",
       "  </thead>\n",
       "  <tbody>\n",
       "    <tr>\n",
       "      <th>0</th>\n",
       "      <td>XGBoost</td>\n",
       "      <td>0</td>\n",
       "      <td>All</td>\n",
       "      <td>0.206226</td>\n",
       "      <td>0.919922</td>\n",
       "      <td>0.973581</td>\n",
       "      <td>15.0</td>\n",
       "      <td>5.4</td>\n",
       "      <td>28.211556</td>\n",
       "      <td>0.233777</td>\n",
       "    </tr>\n",
       "    <tr>\n",
       "      <th>1</th>\n",
       "      <td>XGBoost</td>\n",
       "      <td>1</td>\n",
       "      <td>All</td>\n",
       "      <td>0.204009</td>\n",
       "      <td>0.914989</td>\n",
       "      <td>0.975024</td>\n",
       "      <td>10.8</td>\n",
       "      <td>7.7</td>\n",
       "      <td>30.674947</td>\n",
       "      <td>0.158669</td>\n",
       "    </tr>\n",
       "    <tr>\n",
       "      <th>2</th>\n",
       "      <td>XGBoost</td>\n",
       "      <td>2</td>\n",
       "      <td>All</td>\n",
       "      <td>0.215509</td>\n",
       "      <td>0.913878</td>\n",
       "      <td>0.968944</td>\n",
       "      <td>13.3</td>\n",
       "      <td>6.9</td>\n",
       "      <td>22.936985</td>\n",
       "      <td>0.282686</td>\n",
       "    </tr>\n",
       "    <tr>\n",
       "      <th>3</th>\n",
       "      <td>XGBoost</td>\n",
       "      <td>0</td>\n",
       "      <td>Clinical</td>\n",
       "      <td>0.200860</td>\n",
       "      <td>0.919584</td>\n",
       "      <td>0.974276</td>\n",
       "      <td>14.4</td>\n",
       "      <td>5.7</td>\n",
       "      <td>28.437699</td>\n",
       "      <td>0.221444</td>\n",
       "    </tr>\n",
       "    <tr>\n",
       "      <th>4</th>\n",
       "      <td>XGBoost</td>\n",
       "      <td>1</td>\n",
       "      <td>Clinical</td>\n",
       "      <td>0.200548</td>\n",
       "      <td>0.916092</td>\n",
       "      <td>0.976212</td>\n",
       "      <td>10.6</td>\n",
       "      <td>7.6</td>\n",
       "      <td>26.665476</td>\n",
       "      <td>0.364233</td>\n",
       "    </tr>\n",
       "    <tr>\n",
       "      <th>5</th>\n",
       "      <td>XGBoost</td>\n",
       "      <td>2</td>\n",
       "      <td>Clinical</td>\n",
       "      <td>0.220621</td>\n",
       "      <td>0.912218</td>\n",
       "      <td>0.966939</td>\n",
       "      <td>13.6</td>\n",
       "      <td>7.1</td>\n",
       "      <td>23.986838</td>\n",
       "      <td>0.215519</td>\n",
       "    </tr>\n",
       "    <tr>\n",
       "      <th>6</th>\n",
       "      <td>XGBoost</td>\n",
       "      <td>0</td>\n",
       "      <td>MRT</td>\n",
       "      <td>0.360937</td>\n",
       "      <td>0.842341</td>\n",
       "      <td>0.895312</td>\n",
       "      <td>35.2</td>\n",
       "      <td>8.6</td>\n",
       "      <td>40.560265</td>\n",
       "      <td>-0.583809</td>\n",
       "    </tr>\n",
       "    <tr>\n",
       "      <th>7</th>\n",
       "      <td>XGBoost</td>\n",
       "      <td>1</td>\n",
       "      <td>MRT</td>\n",
       "      <td>0.379400</td>\n",
       "      <td>0.836182</td>\n",
       "      <td>0.883590</td>\n",
       "      <td>33.8</td>\n",
       "      <td>10.2</td>\n",
       "      <td>35.200108</td>\n",
       "      <td>-0.107867</td>\n",
       "    </tr>\n",
       "    <tr>\n",
       "      <th>8</th>\n",
       "      <td>XGBoost</td>\n",
       "      <td>2</td>\n",
       "      <td>MRT</td>\n",
       "      <td>0.394997</td>\n",
       "      <td>0.811367</td>\n",
       "      <td>0.875927</td>\n",
       "      <td>30.0</td>\n",
       "      <td>14.9</td>\n",
       "      <td>31.722007</td>\n",
       "      <td>-0.372012</td>\n",
       "    </tr>\n",
       "    <tr>\n",
       "      <th>9</th>\n",
       "      <td>XGBoost</td>\n",
       "      <td>0</td>\n",
       "      <td>MRT</td>\n",
       "      <td>0.452082</td>\n",
       "      <td>0.801094</td>\n",
       "      <td>0.886472</td>\n",
       "      <td>16.9</td>\n",
       "      <td>23.3</td>\n",
       "      <td>32.918809</td>\n",
       "      <td>-0.214233</td>\n",
       "    </tr>\n",
       "    <tr>\n",
       "      <th>10</th>\n",
       "      <td>XGBoost</td>\n",
       "      <td>1</td>\n",
       "      <td>MRT</td>\n",
       "      <td>0.371283</td>\n",
       "      <td>0.846713</td>\n",
       "      <td>0.907766</td>\n",
       "      <td>12.2</td>\n",
       "      <td>18.9</td>\n",
       "      <td>33.063575</td>\n",
       "      <td>-0.086896</td>\n",
       "    </tr>\n",
       "    <tr>\n",
       "      <th>11</th>\n",
       "      <td>XGBoost</td>\n",
       "      <td>2</td>\n",
       "      <td>MRT</td>\n",
       "      <td>0.326000</td>\n",
       "      <td>0.854391</td>\n",
       "      <td>0.937616</td>\n",
       "      <td>12.3</td>\n",
       "      <td>17.6</td>\n",
       "      <td>25.599364</td>\n",
       "      <td>-0.029574</td>\n",
       "    </tr>\n",
       "  </tbody>\n",
       "</table>\n",
       "</div>"
      ],
      "text/plain": [
       "       Type  Dataset_number  Features  log_loss       ACC   ROC AUC   TPR  \\\n",
       "0   XGBoost               0       All  0.206226  0.919922  0.973581  15.0   \n",
       "1   XGBoost               1       All  0.204009  0.914989  0.975024  10.8   \n",
       "2   XGBoost               2       All  0.215509  0.913878  0.968944  13.3   \n",
       "3   XGBoost               0  Clinical  0.200860  0.919584  0.974276  14.4   \n",
       "4   XGBoost               1  Clinical  0.200548  0.916092  0.976212  10.6   \n",
       "5   XGBoost               2  Clinical  0.220621  0.912218  0.966939  13.6   \n",
       "6   XGBoost               0       MRT  0.360937  0.842341  0.895312  35.2   \n",
       "7   XGBoost               1       MRT  0.379400  0.836182  0.883590  33.8   \n",
       "8   XGBoost               2       MRT  0.394997  0.811367  0.875927  30.0   \n",
       "9   XGBoost               0       MRT  0.452082  0.801094  0.886472  16.9   \n",
       "10  XGBoost               1       MRT  0.371283  0.846713  0.907766  12.2   \n",
       "11  XGBoost               2       MRT  0.326000  0.854391  0.937616  12.3   \n",
       "\n",
       "     FPR       RMSE        R2  \n",
       "0    5.4  28.211556  0.233777  \n",
       "1    7.7  30.674947  0.158669  \n",
       "2    6.9  22.936985  0.282686  \n",
       "3    5.7  28.437699  0.221444  \n",
       "4    7.6  26.665476  0.364233  \n",
       "5    7.1  23.986838  0.215519  \n",
       "6    8.6  40.560265 -0.583809  \n",
       "7   10.2  35.200108 -0.107867  \n",
       "8   14.9  31.722007 -0.372012  \n",
       "9   23.3  32.918809 -0.214233  \n",
       "10  18.9  33.063575 -0.086896  \n",
       "11  17.6  25.599364 -0.029574  "
      ]
     },
     "execution_count": 49,
     "metadata": {},
     "output_type": "execute_result"
    }
   ],
   "source": [
    "results"
   ]
  },
  {
   "cell_type": "code",
   "execution_count": null,
   "metadata": {},
   "outputs": [],
   "source": [
    "if Save_results:\n",
    "    results.to_csv('result.csv')"
   ]
  }
 ],
 "metadata": {
  "kernelspec": {
   "display_name": "Python 3",
   "language": "python",
   "name": "python3"
  },
  "language_info": {
   "codemirror_mode": {
    "name": "ipython",
    "version": 3
   },
   "file_extension": ".py",
   "mimetype": "text/x-python",
   "name": "python",
   "nbconvert_exporter": "python",
   "pygments_lexer": "ipython3",
   "version": "3.6.5"
  }
 },
 "nbformat": 4,
 "nbformat_minor": 2
}
